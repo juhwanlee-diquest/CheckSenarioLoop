{
 "cells": [
  {
   "cell_type": "code",
   "execution_count": 4,
   "metadata": {},
   "outputs": [],
   "source": [
    "# 테스트 케이스\n",
    "senarios = [\n",
    "    'b>c>d',\n",
    "    'b>c>e',\n",
    "    'a>b',\n",
    "    'a>b>c>d>e',\n",
    "    'd>a',\n",
    "]"
   ]
  },
  {
   "cell_type": "code",
   "execution_count": 28,
   "metadata": {},
   "outputs": [
    {
     "name": "stdout",
     "output_type": "stream",
     "text": [
      "Cycle detected after adding scenario 'b>a':\n",
      "Graph has a cycle\n"
     ]
    }
   ],
   "source": [
    "from collections import defaultdict, deque\n",
    "\n",
    "def topological_sort(graph, nodes):\n",
    "    in_degree = {u: 0 for u in nodes}  # 모든 노드 초기화\n",
    "    for u in graph:\n",
    "        for v in graph[u]:\n",
    "            in_degree[v] += 1\n",
    "\n",
    "    queue = deque([u for u in nodes if in_degree[u] == 0])\n",
    "    ordered_nodes = []\n",
    "\n",
    "    while queue:\n",
    "        u = queue.popleft()\n",
    "        ordered_nodes.append(u)\n",
    "        for v in graph[u]:\n",
    "            in_degree[v] -= 1\n",
    "            if in_degree[v] == 0:\n",
    "                queue.append(v)\n",
    "\n",
    "    if len(ordered_nodes) == len(nodes):\n",
    "        return ordered_nodes\n",
    "    else:\n",
    "        raise ValueError(\"Graph has a cycle\")\n",
    "    \n",
    "def find_cycle(graph, node, visited, rec_stack, parent, cycle_edges):\n",
    "    visited[node] = True\n",
    "    rec_stack[node] = True\n",
    "\n",
    "    for neighbor in graph[node]:\n",
    "        if not visited[neighbor]:\n",
    "            if find_cycle(graph, neighbor, visited, rec_stack, node, cycle_edges):\n",
    "                return True\n",
    "        elif rec_stack[neighbor]:\n",
    "            # 사이클을 발견하면 해당 간선을 리스트에 추가\n",
    "            cycle_edges.append((parent, neighbor))\n",
    "            return True\n",
    "\n",
    "    rec_stack[node] = False\n",
    "    return False\n",
    "\n",
    "def detect_cycles(graph, all_nodes):\n",
    "    visited = {node: False for node in all_nodes}\n",
    "    rec_stack = {node: False for node in all_nodes}\n",
    "    cycle_edges = []\n",
    "\n",
    "    for node in all_nodes:\n",
    "        if not visited[node]:\n",
    "            if find_cycle(graph, node, visited, rec_stack, None, cycle_edges):\n",
    "                pass\n",
    "    \n",
    "    return cycle_edges\n",
    "\n",
    "# 그래프 생성\n",
    "graph = defaultdict(list)\n",
    "\n",
    "all_nodes = set()\n",
    "for scenario in senarios:\n",
    "    nodes = scenario.split('>')\n",
    "    for i in range(len(nodes) - 1):\n",
    "        graph[nodes[i]].append(nodes[i + 1])\n",
    "    all_nodes.update(nodes)  # 모든 노드를 수집\n",
    "    \n",
    "    # 사이클 감지 및 출력\n",
    "    cycle_edges = detect_cycles(graph, all_nodes)\n",
    "    if cycle_edges:\n",
    "        print(f\"Cycle detected after adding scenario '{scenario}':\")\n",
    "else:\n",
    "    try:\n",
    "        ordered_nodes = topological_sort(graph, all_nodes)\n",
    "        print(\"No Cycle Detected:\", ordered_nodes)\n",
    "    except ValueError as e:\n",
    "        print(e)\n"
   ]
  },
  {
   "cell_type": "code",
   "execution_count": null,
   "metadata": {},
   "outputs": [],
   "source": []
  }
 ],
 "metadata": {
  "kernelspec": {
   "display_name": ".venv",
   "language": "python",
   "name": "python3"
  },
  "language_info": {
   "codemirror_mode": {
    "name": "ipython",
    "version": 3
   },
   "file_extension": ".py",
   "mimetype": "text/x-python",
   "name": "python",
   "nbconvert_exporter": "python",
   "pygments_lexer": "ipython3",
   "version": "3.8.10"
  }
 },
 "nbformat": 4,
 "nbformat_minor": 2
}
